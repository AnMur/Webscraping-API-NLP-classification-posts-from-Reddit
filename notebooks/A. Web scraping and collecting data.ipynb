{
 "cells": [
  {
   "cell_type": "markdown",
   "id": "58dbd538",
   "metadata": {},
   "source": [
    "## Andrei Muravev\n",
    "\n",
    "###  Webscraping\n",
    "\n"
   ]
  },
  {
   "cell_type": "markdown",
   "id": "36f381d2",
   "metadata": {},
   "source": [
    "  The main goal of this project is to collect public data, analyze, clean and classify it. To collect public data, I'm going to scrape posts from two subreddits: 'books' and 'parenting'. \n",
    "  \n",
    "  In order to keep both subreddits equal in numbers of posts after cleaning, I've decided to use 11250 posts from 'books' and 5250 posts from 'parenting'. It would give me total around 8500 posts.\n",
    "  \n",
    "  To be nice to the api and not get banned, I've used time.sleep() function with a timer 3 seconds."
   ]
  },
  {
   "cell_type": "markdown",
   "id": "a4b8fe79",
   "metadata": {},
   "source": [
    "### 1. Importing packages"
   ]
  },
  {
   "cell_type": "code",
   "execution_count": 192,
   "id": "ba9b84f6",
   "metadata": {},
   "outputs": [],
   "source": [
    "import pandas as pd\n",
    "import numpy as np\n",
    "\n",
    "import requests\n",
    "from bs4 import BeautifulSoup\n",
    "import time"
   ]
  },
  {
   "cell_type": "markdown",
   "id": "f622adee",
   "metadata": {},
   "source": [
    " ### 2. Scrapping subreddit 'books' to get 11250 posts"
   ]
  },
  {
   "cell_type": "code",
   "execution_count": 194,
   "id": "9ab3a2b5",
   "metadata": {},
   "outputs": [],
   "source": [
    "# Get the first 50 subreddits\n",
    "# This code how to collect data came from General Assembly lessons \n",
    "\n",
    "base_url = 'https://api.pushshift.io/reddit/'\n",
    "\n",
    "res = requests.get(base_url + 'search/submission/', params={ 'subreddit': 'books', \n",
    "                                                             'size': 75})\n",
    "\n",
    "data = res.json()\n",
    "posts = pd.DataFrame(data['data'])\n",
    "\n",
    "# Order post using created_utc?\n",
    "earliest =  posts['created_utc'].min()\n",
    "\n"
   ]
  },
  {
   "cell_type": "code",
   "execution_count": 195,
   "id": "1f7da984",
   "metadata": {},
   "outputs": [],
   "source": [
    "# get another subreddits\n",
    "\n",
    "storage = []\n",
    "\n",
    "for i in range(150):\n",
    "    params = {\n",
    "    'subreddit': 'books',\n",
    "    'size': 75,\n",
    "    'before': earliest}\n",
    "    \n",
    "    res = requests.get(base_url + 'search/submission/', params=params)\n",
    "    data = res.json()\n",
    "    posts = pd.DataFrame(data['data'])\n",
    "    earliest =  posts['created_utc'].min()\n",
    "    storage.append(posts)\n",
    "    time.sleep(3)\n",
    "    \n",
    "#     print(i)"
   ]
  },
  {
   "cell_type": "markdown",
   "id": "7093b810",
   "metadata": {},
   "source": [
    "### 3. Concatinate all subreddits in one dataframe and remove duplcates"
   ]
  },
  {
   "cell_type": "code",
   "execution_count": 196,
   "id": "e872cae8",
   "metadata": {},
   "outputs": [
    {
     "data": {
      "text/plain": [
       "(11250, 83)"
      ]
     },
     "execution_count": 196,
     "metadata": {},
     "output_type": "execute_result"
    }
   ],
   "source": [
    "# Concatinate all subreddits in one dataframe\n",
    "\n",
    "books = pd.concat(storage, axis=0)\n",
    "books.shape"
   ]
  },
  {
   "cell_type": "code",
   "execution_count": 197,
   "id": "172c1e7e",
   "metadata": {},
   "outputs": [
    {
     "data": {
      "text/plain": [
       "11250"
      ]
     },
     "execution_count": 197,
     "metadata": {},
     "output_type": "execute_result"
    }
   ],
   "source": [
    "# Check for duplicates in id's an selftext\n",
    "\n",
    "books['id'].nunique()"
   ]
  },
  {
   "cell_type": "code",
   "execution_count": 198,
   "id": "1fd9a328",
   "metadata": {},
   "outputs": [
    {
     "data": {
      "text/plain": [
       "[removed]                                                                                                                                                                                                                                                                                                                                                                                                                                                                                                                                                                                                                                                                 4668\n",
       "                                                                                                                                                                                                                                                                                                                                                                                                                                                                                                                                                                                                                                                                          2233\n",
       "Welcome readers, \\n        \\nHave you ever wanted to ask something but you didn't feel like it deserved its own post but it isn't covered by one of our other scheduled posts?  Allow us to introduce you to our new Simple Questions thread!  Twice a week, every Tuesday and Saturday, a new Simple Questions thread will be posted for you to ask anything you'd like.  And please look for other questions in this thread that you could also answer!  A reminder that this is not the thread to ask for book recommendations.  All book recommendations should be asked in /r/suggestmeabook or our Weekly Recommendation Thread.\\n        \\nThank you and enjoy!      17\n",
       "Name: selftext, dtype: int64"
      ]
     },
     "execution_count": 198,
     "metadata": {},
     "output_type": "execute_result"
    }
   ],
   "source": [
    "# Check for missing posts in selftext. Many posts are usually removed or deleted\n",
    "\n",
    "books['selftext'].value_counts().head(3)"
   ]
  },
  {
   "cell_type": "code",
   "execution_count": 199,
   "id": "04da3ba1",
   "metadata": {},
   "outputs": [],
   "source": [
    "# replace 'removed' with np.nan\n",
    "\n",
    "books.selftext.replace({'[removed]': np.nan,\n",
    "                        '[deleted]':np.nan}, inplace= True)\n",
    "\n",
    "# delete duplicates from 'selftext'\n",
    "\n",
    "books.drop_duplicates(subset = ['selftext'], keep= 'first', inplace = True)"
   ]
  },
  {
   "cell_type": "code",
   "execution_count": 212,
   "id": "4f759022",
   "metadata": {},
   "outputs": [
    {
     "data": {
      "text/plain": [
       "(4256, 83)"
      ]
     },
     "execution_count": 212,
     "metadata": {},
     "output_type": "execute_result"
    }
   ],
   "source": [
    "# My final books dataframe without missing values and duplicates\n",
    "\n",
    "books.shape"
   ]
  },
  {
   "cell_type": "markdown",
   "id": "32ceb282",
   "metadata": {},
   "source": [
    "### 4. Save 'books' to csv"
   ]
  },
  {
   "cell_type": "code",
   "execution_count": 201,
   "id": "c382bb1d",
   "metadata": {},
   "outputs": [],
   "source": [
    "# Uncommented to avoid overwriting\n",
    "\n",
    "#  books.to_csv('../data/book.csv', index=False)"
   ]
  },
  {
   "cell_type": "markdown",
   "id": "2b267bc7",
   "metadata": {},
   "source": [
    "### 5. Scrapping subreddit 'parenting' to get 5250 posts"
   ]
  },
  {
   "cell_type": "code",
   "execution_count": 210,
   "id": "d5cd4080",
   "metadata": {},
   "outputs": [],
   "source": [
    "# Get first 50 subreddits\n",
    "# This code how to collect data came from General Assembly lessons \n",
    "\n",
    "base_url = 'https://api.pushshift.io/reddit/'\n",
    "\n",
    "res = requests.get(base_url + 'search/submission/', params={ 'subreddit': 'parenting', \n",
    "                                                             'size': 75})\n",
    "\n",
    "data = res.json()\n",
    "posts = pd.DataFrame(data['data'])\n",
    "\n",
    "# Order post using created_utc?\n",
    "earliest =  posts['created_utc'].min()\n"
   ]
  },
  {
   "cell_type": "code",
   "execution_count": 211,
   "id": "65aec85e",
   "metadata": {},
   "outputs": [
    {
     "name": "stdout",
     "output_type": "stream",
     "text": [
      "---------------------------\n",
      "Ready to remove duplicates!\n"
     ]
    }
   ],
   "source": [
    "# get another posts\n",
    "\n",
    "storage2 = []\n",
    "\n",
    "for i in range(70):\n",
    "    params = {\n",
    "    'subreddit': 'parenting',\n",
    "    'size': 75,\n",
    "    'before': earliest}\n",
    "    \n",
    "    res = requests.get(base_url + 'search/submission/', params=params)\n",
    "    data = res.json()\n",
    "    posts = pd.DataFrame(data['data'])\n",
    "    earliest =  posts['created_utc'].min()\n",
    "    storage2.append(posts)\n",
    "    time.sleep(3)\n",
    "    \n",
    "            \n",
    "print('---------------------------')\n",
    "print('Ready to remove duplicates!')\n"
   ]
  },
  {
   "cell_type": "markdown",
   "id": "5db35743",
   "metadata": {},
   "source": [
    "### 6. Concatinate all subreddits in one dataframe and remove duplicates"
   ]
  },
  {
   "cell_type": "code",
   "execution_count": 213,
   "id": "0d5a2b7b",
   "metadata": {},
   "outputs": [
    {
     "data": {
      "text/plain": [
       "(5250, 70)"
      ]
     },
     "execution_count": 213,
     "metadata": {},
     "output_type": "execute_result"
    }
   ],
   "source": [
    "# Concatinate\n",
    "\n",
    "par = pd.concat(storage2, axis=0)\n",
    "par.shape"
   ]
  },
  {
   "cell_type": "code",
   "execution_count": 214,
   "id": "48c81321",
   "metadata": {},
   "outputs": [
    {
     "data": {
      "text/plain": [
       "5250"
      ]
     },
     "execution_count": 214,
     "metadata": {},
     "output_type": "execute_result"
    }
   ],
   "source": [
    "# Check duplicates id and selftext\n",
    "\n",
    "par['id'].nunique()"
   ]
  },
  {
   "cell_type": "code",
   "execution_count": 215,
   "id": "3e34f21b",
   "metadata": {},
   "outputs": [
    {
     "data": {
      "text/plain": [
       "[removed]                                                                                                                                                                                                                                                                                                                                                                                                                                                                                                                                                                                                                                                                                                                                                                                                                                                                                                                                                                                                      1039\n",
       "This weekly thread is a good landing place for those who have questions about parenting, but aren't yet parents/legal guardians and can't create new posts in the sub.  \\n\\nAll questions and responses must adhere to our community rules.  \\n\\nFor daily questions, see /r/Askparents\\n\\n(Wondering who your mods are?) \\[Click here to meet the mod team!\\]([https://www.reddit.com/r/parenting/w/Meet\\_the\\_Mods](https://www.reddit.com/r/parenting/w/Meet_the_Mods))                                                                                                                                                                                                                                                                                                                                                                                                                                                                                                                                        6\n",
       "My son is almost 15 months old, and he's WILD. I mean, he was walking at 9 mons and is now climbing everything. No place in our home--and I do no mean no place--is safe or sacred. My friends and fam keep saying, \"Well, he IS a boy!\" as if that explains it, and \"Boys are going to get hurt\" when I fret over him falling off the bed or the kitchen table if I turn my back for 10 seconds. Do any other boy moms get tired of hearing that? Girls play too...why are boys \"supposed\" to get into so much more trouble? I get the impression they don't think I should be concerned over his antics because that's just what boys do. My only concern is him cracking his head open. I'm the mom; it's my job to keep his head intact. I'm just so confused why everyone else I talk to thinks I'm overreacting because \"He is a boy, after all.\" \\n\\nI guess I'll remember that the next time he squirms his way up onto the couch, runs down the length of it, and topples headfirst over the side?       4\n",
       "My toddler who will be two in September. She has some sensory stuff going on and is in OT 3 days a week to work on it. However, I cannot get this girl to stop spitting out her water from her sippy cup. I change her shirt like 5 times a day. We do water play all the time hoping to help her with that sensory input but it still doesn’t help. She’s just obsessed with playing in any type of water. I can’t leave the dog water or cups out and I feel bad because her twin doesn’t do this and I want her to drink water freely. Any advice?                                                                                                                                                                                                                                                                                                                                                                                                                                                             3\n",
       "Some context about you could ask questions about: My parents are divorced, I have two step parents, one half and one step sibling. I’ve lived with both my parents, lived with them when they were single parents, and now they’re both remarried. I have good relationships with my parents, but maybe more so with my dad. I do very well in school, I have many friends, I don’t know what else would be of interest. I’m just curious to see what questions you might have.                                                                                                                                                                                                                                                                                                                                                                                                                                                                                                                                   3\n",
       "Name: selftext, dtype: int64"
      ]
     },
     "execution_count": 215,
     "metadata": {},
     "output_type": "execute_result"
    }
   ],
   "source": [
    "# Check selftext for missing posts. Some of them were removed or deleted\n",
    "\n",
    "par['selftext'].value_counts().head()"
   ]
  },
  {
   "cell_type": "code",
   "execution_count": 219,
   "id": "055e5748",
   "metadata": {},
   "outputs": [],
   "source": [
    "#  replace removed and deleted with np.nan\n",
    "\n",
    "par.selftext.replace({'[removed]':np.nan,\n",
    "                      '[deleted]':np.nan}, inplace = True)\n",
    "\n",
    "# remove duplicates\n",
    "\n",
    "par.drop_duplicates(subset=['selftext'], keep='first', inplace=True)\n",
    "\n"
   ]
  },
  {
   "cell_type": "code",
   "execution_count": 220,
   "id": "d7aa1f84",
   "metadata": {},
   "outputs": [
    {
     "data": {
      "text/plain": [
       "(4179, 70)"
      ]
     },
     "execution_count": 220,
     "metadata": {},
     "output_type": "execute_result"
    }
   ],
   "source": [
    "# My final parenting dataframe without duplicates and missing values\n",
    "\n",
    "par.shape"
   ]
  },
  {
   "cell_type": "markdown",
   "id": "5927019a",
   "metadata": {},
   "source": [
    "### 7. Create csv files"
   ]
  },
  {
   "cell_type": "code",
   "execution_count": 221,
   "id": "a4bb3285",
   "metadata": {},
   "outputs": [],
   "source": [
    "# # Uncommented to avoid overwriting\n",
    "# par.to_csv('../data/parenting.csv', index = False)"
   ]
  },
  {
   "cell_type": "markdown",
   "id": "c7af1913",
   "metadata": {},
   "source": [
    "#### Move to the next notebook for cleaning!"
   ]
  }
 ],
 "metadata": {
  "kernelspec": {
   "display_name": "Python 3",
   "language": "python",
   "name": "python3"
  },
  "language_info": {
   "codemirror_mode": {
    "name": "ipython",
    "version": 3
   },
   "file_extension": ".py",
   "mimetype": "text/x-python",
   "name": "python",
   "nbconvert_exporter": "python",
   "pygments_lexer": "ipython3",
   "version": "3.8.8"
  }
 },
 "nbformat": 4,
 "nbformat_minor": 5
}
